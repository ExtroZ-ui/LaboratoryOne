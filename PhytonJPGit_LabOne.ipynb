{
 "cells": [
  {
   "cell_type": "code",
   "execution_count": 68,
   "metadata": {},
   "outputs": [
    {
     "data": {
      "text/plain": [
       "['  dev', '* main', '  prd', '']"
      ]
     },
     "execution_count": 68,
     "metadata": {},
     "output_type": "execute_result"
    }
   ],
   "source": [
    "import subprocess\n",
    "\n",
    "#Получение веток git\n",
    "subprocess.check_output([\"git\", \"branch\"]).decode().split(\"\\n\")"
   ]
  },
  {
   "cell_type": "code",
   "execution_count": 69,
   "metadata": {},
   "outputs": [
    {
     "data": {
      "text/plain": [
       "1"
      ]
     },
     "execution_count": 69,
     "metadata": {},
     "output_type": "execute_result"
    }
   ],
   "source": [
    "# Очищаем \n",
    "subprocess.call([\"git\", \"reset\", \"--ard\"])\n",
    "subprocess.call([\"git\",\"clean \",\"-fdx\"])\n",
    "\n"
   ]
  },
  {
   "cell_type": "code",
   "execution_count": null,
   "metadata": {},
   "outputs": [],
   "source": [
    "# Перенос ревизии из ветки dev в prd\n",
    "subprocess.run([\"git\", \"checkout\", \"prd\"])\n",
    "subprocess.run([\"git\", \"merge\", \"--no-ff\", \"dev\"])\n",
    "\n",
    "# Установка тега\n",
    "subprocess.run([\"git\", \"tag\", \"-a\", \"v1.0.0\"])\n",
    "subprocess.run([\"git\", \"tag\", \"-u\"])\n",
    "\n",
    "# Отправка изменений\n",
    "subprocess.run([\"git\", \"push\", \"origin\", \"prd\", \"--tags\"])"
   ]
  }
 ],
 "metadata": {
  "kernelspec": {
   "display_name": "Python 3",
   "language": "python",
   "name": "python3"
  },
  "language_info": {
   "name": "python",
   "version": "3.11.9"
  }
 },
 "nbformat": 4,
 "nbformat_minor": 2
}
